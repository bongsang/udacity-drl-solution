{
 "cells": [
  {
   "cell_type": "markdown",
   "metadata": {},
   "source": [
    "# Continuous Control\n",
    "\n",
    "---\n",
    "\n",
    "You are welcome to use this coding environment to train your agent for the project.  Follow the instructions below to get started!\n",
    "\n",
    "### 1. Start the Environment\n",
    "\n",
    "Run the next code cell to install a few packages.  This line will take a few minutes to run!"
   ]
  },
  {
   "cell_type": "code",
   "execution_count": 1,
   "metadata": {},
   "outputs": [],
   "source": [
    "!pip -q install ./python"
   ]
  },
  {
   "cell_type": "markdown",
   "metadata": {},
   "source": [
    "The environments corresponding to both versions of the environment are already saved in the Workspace and can be accessed at the file paths provided below.  \n",
    "\n",
    "Please select one of the two options below for loading the environment."
   ]
  },
  {
   "cell_type": "code",
   "execution_count": null,
   "metadata": {},
   "outputs": [],
   "source": [
    "from unityagents import UnityEnvironment\n",
    "import numpy as np\n",
    "import copy\n",
    "from collections import namedtuple, deque\n",
    "import random\n",
    "\n",
    "import torch\n",
    "import torch.nn as nn\n",
    "import torch.nn.functional as F\n",
    "import torch.optim as optim\n",
    "\n",
    "# For visualiztion for trained model in Windows PC\n",
    "env = UnityEnvironment(file_name='Reacher_Windows_x86_64/Reacher.exe')\n",
    "\n",
    "\n",
    "# select this option to load version 1 (with a single agent) of the environment\n",
    "# env = UnityEnvironment(file_name='/data/Reacher_One_Linux_NoVis/Reacher_One_Linux_NoVis.x86_64')\n",
    "\n",
    "# select this option to load version 2 (with 20 agents) of the environment\n",
    "# env = UnityEnvironment(file_name='/data/Reacher_Linux_NoVis/Reacher.x86_64')"
   ]
  },
  {
   "cell_type": "markdown",
   "metadata": {},
   "source": [
    "Environments contain **_brains_** which are responsible for deciding the actions of their associated agents. Here we check for the first brain available, and set it as the default brain we will be controlling from Python."
   ]
  },
  {
   "cell_type": "code",
   "execution_count": 3,
   "metadata": {},
   "outputs": [],
   "source": [
    "# get the default brain\n",
    "brain_name = env.brain_names[0]\n",
    "brain = env.brains[brain_name]"
   ]
  },
  {
   "cell_type": "markdown",
   "metadata": {},
   "source": [
    "### 2. Examine the State and Action Spaces\n",
    "\n",
    "Run the code cell below to print some information about the environment."
   ]
  },
  {
   "cell_type": "code",
   "execution_count": 4,
   "metadata": {},
   "outputs": [
    {
     "name": "stdout",
     "output_type": "stream",
     "text": [
      "Number of agents: 1\n",
      "Size of each action: 4\n",
      "There are 1 agents. Each observes a state with length: 33\n",
      "The state for the first agent looks like: [  0.00000000e+00  -4.00000000e+00   0.00000000e+00   1.00000000e+00\n",
      "  -0.00000000e+00  -0.00000000e+00  -4.37113883e-08   0.00000000e+00\n",
      "   0.00000000e+00   0.00000000e+00   0.00000000e+00   0.00000000e+00\n",
      "   0.00000000e+00   0.00000000e+00  -1.00000000e+01   0.00000000e+00\n",
      "   1.00000000e+00  -0.00000000e+00  -0.00000000e+00  -4.37113883e-08\n",
      "   0.00000000e+00   0.00000000e+00   0.00000000e+00   0.00000000e+00\n",
      "   0.00000000e+00   0.00000000e+00   5.75471878e+00  -1.00000000e+00\n",
      "   5.55726671e+00   0.00000000e+00   1.00000000e+00   0.00000000e+00\n",
      "  -1.68164849e-01]\n"
     ]
    }
   ],
   "source": [
    "# reset the environment\n",
    "env_info = env.reset(train_mode=True)[brain_name]\n",
    "\n",
    "# number of agents\n",
    "num_agents = len(env_info.agents)\n",
    "print('Number of agents:', num_agents)\n",
    "\n",
    "# size of each action\n",
    "action_size = brain.vector_action_space_size\n",
    "print('Size of each action:', action_size)\n",
    "\n",
    "# examine the state space \n",
    "states = env_info.vector_observations\n",
    "state_size = states.shape[1]\n",
    "print('There are {} agents. Each observes a state with length: {}'.format(states.shape[0], state_size))\n",
    "print('The state for the first agent looks like:', states[0])"
   ]
  },
  {
   "cell_type": "markdown",
   "metadata": {},
   "source": [
    "### 3. Take Random Actions in the Environment\n",
    "\n",
    "In the next code cell, you will learn how to use the Python API to control the agent and receive feedback from the environment.\n",
    "\n",
    "Note that **in this coding environment, you will not be able to watch the agents while they are training**, and you should set `train_mode=True` to restart the environment."
   ]
  },
  {
   "cell_type": "code",
   "execution_count": 5,
   "metadata": {},
   "outputs": [
    {
     "name": "stdout",
     "output_type": "stream",
     "text": [
      "Total score (averaged over agents) this episode: 0.0\n"
     ]
    }
   ],
   "source": [
    "env_info = env.reset(train_mode=True)[brain_name]      # reset the environment    \n",
    "states = env_info.vector_observations                  # get the current state (for each agent)\n",
    "scores = np.zeros(num_agents)                          # initialize the score (for each agent)\n",
    "while True:\n",
    "    actions = np.random.randn(num_agents, action_size) # select an action (for each agent)\n",
    "    actions = np.clip(actions, -1, 1)                  # all actions between -1 and 1\n",
    "    env_info = env.step(actions)[brain_name]           # send all actions to tne environment\n",
    "    next_states = env_info.vector_observations         # get next state (for each agent)\n",
    "    rewards = env_info.rewards                         # get reward (for each agent)\n",
    "    dones = env_info.local_done                        # see if episode finished\n",
    "    scores += env_info.rewards                         # update the score (for each agent)\n",
    "    states = next_states                               # roll over states to next time step\n",
    "    if np.any(dones):                                  # exit loop if episode finished\n",
    "        break\n",
    "print('Total score (averaged over agents) this episode: {}'.format(np.mean(scores)))"
   ]
  },
  {
   "cell_type": "markdown",
   "metadata": {},
   "source": [
    "When finished, you can close the environment."
   ]
  },
  {
   "cell_type": "code",
   "execution_count": 6,
   "metadata": {},
   "outputs": [],
   "source": [
    "# env.close()"
   ]
  },
  {
   "cell_type": "markdown",
   "metadata": {},
   "source": [
    "### 4. It's Your Turn!\n",
    "\n",
    "Now it's your turn to train your own agent to solve the environment!  A few **important notes**:\n",
    "- When training the environment, set `train_mode=True`, so that the line for resetting the environment looks like the following:\n",
    "```python\n",
    "env_info = env.reset(train_mode=True)[brain_name]\n",
    "```\n",
    "- To structure your work, you're welcome to work directly in this Jupyter notebook, or you might like to start over with a new file!  You can see the list of files in the workspace by clicking on **_Jupyter_** in the top left corner of the notebook.\n",
    "- In this coding environment, you will not be able to watch the agents while they are training.  However, **_after training the agents_**, you can download the saved model weights to watch the agents on your own machine! "
   ]
  },
  {
   "cell_type": "markdown",
   "metadata": {},
   "source": [
    "### 5. My DDPG"
   ]
  },
  {
   "cell_type": "markdown",
   "metadata": {},
   "source": [
    "### 5.1 Actor and Critic"
   ]
  },
  {
   "cell_type": "code",
   "execution_count": 7,
   "metadata": {},
   "outputs": [],
   "source": [
    "class Actor(nn.Module):\n",
    "    def __init__(self, state_size, action_size, param_file=None):\n",
    "        super().__init__()\n",
    "        self.fc1 = nn.Linear(state_size, 512)\n",
    "        self.fc2 = nn.Linear(512, 256)\n",
    "        self.fc3 = nn.Linear(256, action_size)\n",
    "        if param_file:\n",
    "            self.load_params(param_file)\n",
    "        else:\n",
    "            self._reset_params()\n",
    "\n",
    "    def _reset_params(self):\n",
    "        nn.init.kaiming_normal_(self.fc1.weight)\n",
    "        nn.init.constant_(self.fc1.bias, 0)\n",
    "        nn.init.kaiming_normal_(self.fc2.weight)\n",
    "        nn.init.constant_(self.fc2.bias, 0)\n",
    "        nn.init.xavier_normal_(self.fc3.weight)\n",
    "        nn.init.constant_(self.fc3.bias, 0)\n",
    "\n",
    "    def load_params(self, param_file):\n",
    "        self.load_state_dict(torch.load(param_file))\n",
    "        \n",
    "    def forward(self, state):\n",
    "        x = state\n",
    "        x = F.relu(self.fc1(x))\n",
    "        x = F.relu(self.fc2(x))\n",
    "        return torch.tanh(self.fc3(x))\n",
    "\n",
    "\n",
    "class Critic(nn.Module):\n",
    "    def __init__(self, state_size, action_size, param_file=None):\n",
    "        super().__init__()\n",
    "        self.fc1 = nn.Linear(state_size, 512)\n",
    "        self.bn1 = nn.BatchNorm1d(512)\n",
    "        self.fc2 = nn.Linear(512 + action_size, 256)\n",
    "        self.bn2 = nn.BatchNorm1d(256)\n",
    "        self.fc3 = nn.Linear(256, 1)\n",
    "        if param_file:\n",
    "            self.load_params(param_file)\n",
    "        else:\n",
    "            self._reset_params()\n",
    "\n",
    "    def _reset_params(self):\n",
    "        nn.init.kaiming_normal_(self.fc1.weight)\n",
    "        nn.init.constant_(self.fc1.bias, 0)\n",
    "        nn.init.kaiming_normal_(self.fc2.weight)\n",
    "        nn.init.constant_(self.fc2.bias, 0)\n",
    "        nn.init.xavier_normal_(self.fc3.weight)\n",
    "        nn.init.constant_(self.fc3.bias, 0)\n",
    "    \n",
    "    def load_params(self, param_file):\n",
    "        self.load_state_dict(torch.load(param_file))\n",
    "\n",
    "    def forward(self, state, action):\n",
    "        x = F.relu(self.bn1(self.fc1(state)))\n",
    "        x = torch.cat((x, action), dim=1)\n",
    "        x = F.relu(self.bn2(self.fc2(x)))\n",
    "        return self.fc3(x)"
   ]
  },
  {
   "cell_type": "markdown",
   "metadata": {},
   "source": [
    "### 5.2 DDPG"
   ]
  },
  {
   "cell_type": "code",
   "execution_count": 8,
   "metadata": {},
   "outputs": [],
   "source": [
    "import numpy as np\n",
    "import torch\n",
    "import torch.nn.functional as F\n",
    "import copy\n",
    "from collections import deque, namedtuple\n",
    "import random\n",
    "\n",
    "device = torch.device('cuda:0' if torch.cuda.is_available() else 'cpu')\n",
    "\n",
    "class ReplayBuffer():\n",
    "    def __init__(self, sample_size, max_len=int(1e5)):\n",
    "        self.buffer = deque(maxlen=max_len)\n",
    "        self.sample_size = sample_size\n",
    "        self.experience = namedtuple('experience', ('state', 'action', 'reward', 'next_state', 'done'))\n",
    "\n",
    "    def add(self, states, actions, rewards, next_states, dones):\n",
    "        exps = [self.experience(s, a, r, ns, d)\n",
    "                for s, a, r, ns, d in zip(states, actions, rewards, next_states, dones)]\n",
    "        self.buffer.extend(exps)\n",
    "\n",
    "    def sample(self):\n",
    "        exps = random.sample(self.buffer, self.sample_size)\n",
    "\n",
    "        states = torch.from_numpy(np.vstack([e.state for e in exps if e is not None])).float().to(device)\n",
    "        actions = torch.from_numpy(np.vstack([e.action for e in exps if e is not None])).float().to(device)\n",
    "        rewards = torch.from_numpy(np.vstack([e.reward for e in exps if e is not None])).float().to(device)\n",
    "        next_states = torch.from_numpy(np.vstack([e.next_state for e in exps if e is not None])).float().to(device)\n",
    "        dones = torch.from_numpy(np.vstack([e.done for e in exps if e is not None]).astype(np.uint8)).float().to(device)\n",
    "\n",
    "        return states, actions, rewards, next_states, dones\n",
    "\n",
    "    def __len__(self):\n",
    "        return len(self.buffer)\n",
    "\n",
    "\n",
    "class Agent():\n",
    "    def __init__(self, state_size, action_size, batch_size=128, \n",
    "                 actor_alpha=1e-3, critic_alpha=1e-3, gamma=0.99, tau=1e-3, \n",
    "                 device=device, actor_file=None, critic_file=None):\n",
    "        # hyperparameters\n",
    "        self.gamma = gamma\n",
    "        self.tau = tau\n",
    "        self.noise_decay = 1 + 5e-6\n",
    "        # env info\n",
    "        self.state_size = state_size\n",
    "        self.action_size = action_size\n",
    "        # replay buffer\n",
    "        self.buffer = ReplayBuffer(sample_size=batch_size)\n",
    "        # actor-critic\n",
    "        self.actor_main = Actor(state_size, action_size, param_file=actor_file).to(device)\n",
    "        self.critic_main = Critic(state_size, action_size, param_file=critic_file).to(device)\n",
    "        # target actor-critic\n",
    "        self.actor_target = copy.deepcopy(self.actor_main)\n",
    "        self.critic_target = copy.deepcopy(self.critic_main)\n",
    "        # optimizer\n",
    "        self.actor_optimizer = torch.optim.Adam(self.actor_main.parameters(), lr=actor_alpha)\n",
    "        self.critic_optimizer = torch.optim.Adam(self.critic_main.parameters(), lr=critic_alpha)\n",
    "\n",
    "    def act(self, states):\n",
    "        states = torch.from_numpy(states).float().to(device)\n",
    "        # add noise to parameters\n",
    "        saved_params = []\n",
    "        for param in self.actor_main.parameters():\n",
    "            saved_params.append(copy.deepcopy(param))\n",
    "            param = param + torch.normal(mean=0.0, std=torch.ones_like(param) / (10 * self.noise_decay))\n",
    "\n",
    "        self.noise_decay *= 1 + 5e-6\n",
    "        \n",
    "        self.actor_main.eval()\n",
    "        with torch.no_grad():\n",
    "           actions = self.actor_main(states).cpu().numpy()\n",
    "        self.actor_main.train()\n",
    "        # restore parameters\n",
    "        for param, saved_param in zip(self.actor_main.parameters(), saved_params):\n",
    "            param = saved_param\n",
    "\n",
    "        return np.clip(actions, -1, 1)\n",
    "\n",
    "    def step(self, states, actions, rewards, next_states, dones):\n",
    "        self.buffer.add(states, actions, rewards, next_states, dones)\n",
    "\n",
    "        if len(self.buffer) > self.buffer.sample_size + 100:\n",
    "            self._learn()\n",
    "\n",
    "    def _learn(self):\n",
    "        states, actions, rewards, next_states, dones = self.buffer.sample()\n",
    "        targets = rewards + (1 - dones) * self.gamma * self.critic_target(next_states, self.actor_target(next_states)).detach()\n",
    "        critic_loss = F.mse_loss(self.critic_main(states, actions), targets)\n",
    "        actor_loss = -self.critic_main(states, self.actor_main(states)).mean()\n",
    "        # update critic\n",
    "        self.critic_optimizer.zero_grad()\n",
    "        critic_loss.backward()\n",
    "        self.critic_optimizer.step()\n",
    "        # update actor\n",
    "        self.actor_optimizer.zero_grad()\n",
    "        actor_loss.backward()\n",
    "        self.actor_optimizer.step()\n",
    "        # update the target networks\n",
    "        self._moving_average(self.actor_main, self.actor_target)\n",
    "        self._moving_average(self.critic_main, self.critic_target)\n",
    "\n",
    "    def _moving_average(self, main, target):\n",
    "        for target_param, main_param in zip(target.parameters(), main.parameters()):\n",
    "            target_param.data.copy_(self.tau * main_param.data + (1.0 - self.tau) * target_param.data)"
   ]
  },
  {
   "cell_type": "markdown",
   "metadata": {},
   "source": [
    "### 5.3 Training DDPG"
   ]
  },
  {
   "cell_type": "code",
   "execution_count": null,
   "metadata": {},
   "outputs": [
    {
     "name": "stdout",
     "output_type": "stream",
     "text": [
      "Average score over 100 episodes: 8.99\tBest score: 25.419999431818724\n",
      "Average score over 100 episodes: 28.31\tBest score: 37.83999915421009\n",
      "Episode 226,\tScores: 31.51,\t Average scores: 27.55"
     ]
    }
   ],
   "source": [
    "num_episodes = 1000\n",
    "agent = Agent(state_size, action_size)\n",
    "# agent.actor_main.load_state_dict(torch.load('actor_checkpoint.pth'))\n",
    "# agent.critic_main.load_state_dict(torch.load('critic_checkpoint.pth'))\n",
    "\n",
    "avg_scores = deque(maxlen=100)\n",
    "for eps in range(1, num_episodes+1):\n",
    "    env_info = env.reset(train_mode=True)[brain_name]          \n",
    "    states = env_info.vector_observations\n",
    "    scores = np.zeros(num_agents)        \n",
    "    best_scores = scores\n",
    "    while True:\n",
    "        actions = agent.act(states)\n",
    "        env_info = env.step(actions)[brain_name]\n",
    "        next_states = env_info.vector_observations         \n",
    "        rewards = env_info.rewards                         \n",
    "        dones = env_info.local_done\n",
    "        agent.step(states, actions, rewards, next_states, dones)\n",
    "        scores += env_info.rewards                         \n",
    "        states = next_states                               \n",
    "        if np.any(dones):                                  \n",
    "            break\n",
    "    avg_scores.append(scores)\n",
    "    if scores[0] > best_scores[0]:\n",
    "        best_scores = scores\n",
    "    avg_score = np.mean(avg_scores)\n",
    "    print('\\rEpisode {},\\tScores: {:.2f},\\t Average scores: {:.2f}'.format(eps, scores[0], avg_score), end='')\n",
    "    if eps % 100 == 0:\n",
    "        print('\\rAverage score over 100 episodes: {:.2f}\\tBest score: {}'.format(np.mean(avg_scores), best_scores[0]))\n",
    "    torch.save(agent.actor_main.state_dict(), 'actor_checkpoint.pth')\n",
    "    torch.save(agent.critic_main.state_dict(), 'critic_checkpoint.pth')\n",
    "    if eps > 100 and avg_score > 30:\n",
    "        print('\\rTarget achieved. Average score over 100 episodes: {}'.format(avg_score))\n",
    "        break"
   ]
  },
  {
   "cell_type": "markdown",
   "metadata": {},
   "source": [
    "### 5.4 Visualizing trained model"
   ]
  },
  {
   "cell_type": "code",
   "execution_count": null,
   "metadata": {},
   "outputs": [],
   "source": [
    "num_episodes = 1000\n",
    "agent = Agent(state_size, action_size)\n",
    "agent.actor_main.load_state_dict(torch.load('actor_checkpoint.pth'))\n",
    "agent.critic_main.load_state_dict(torch.load('critic_checkpoint.pth'))\n",
    "\n",
    "avg_scores = deque(maxlen=100)\n",
    "for eps in range(1, num_episodes+1):\n",
    "    env_info = env.reset(train_mode=True)[brain_name]          \n",
    "    states = env_info.vector_observations\n",
    "    scores = np.zeros(num_agents)        \n",
    "    best_scores = scores\n",
    "    while True:\n",
    "        actions = agent.act(states)\n",
    "        env_info = env.step(actions)[brain_name]\n",
    "        next_states = env_info.vector_observations         \n",
    "        rewards = env_info.rewards                         \n",
    "        dones = env_info.local_done\n",
    "#         agent.step(states, actions, rewards, next_states, dones)\n",
    "        scores += env_info.rewards                         \n",
    "        states = next_states                               \n",
    "        if np.any(dones):                                  \n",
    "            break\n",
    "    avg_scores.append(scores)\n",
    "    if scores[0] > best_scores[0]:\n",
    "        best_scores = scores\n",
    "    avg_score = np.mean(avg_scores)\n",
    "    print('\\rEpisode {},\\tScores: {:.2f},\\t Average scores: {:.2f}'.format(eps, scores[0], avg_score), end='')\n",
    "    if eps % 100 == 0:\n",
    "        print('\\rAverage score over 100 episodes: {:.2f}\\tBest score: {}'.format(np.mean(avg_scores), best_scores[0]))\n",
    "#     torch.save(agent.actor_main.state_dict(), 'actor_checkpoint.pth')\n",
    "#     torch.save(agent.critic_main.state_dict(), 'critic_checkpoint.pth')\n",
    "    if eps > 100 and avg_score > 30:\n",
    "        print('\\rTarget achieved. Average score over 100 episodes: {}'.format(avg_score))\n",
    "        break"
   ]
  },
  {
   "cell_type": "code",
   "execution_count": null,
   "metadata": {},
   "outputs": [],
   "source": [
    "env.close()"
   ]
  },
  {
   "cell_type": "code",
   "execution_count": null,
   "metadata": {},
   "outputs": [],
   "source": []
  }
 ],
 "metadata": {
  "kernelspec": {
   "display_name": "Python 3",
   "language": "python",
   "name": "python3"
  },
  "language_info": {
   "codemirror_mode": {
    "name": "ipython",
    "version": 3
   },
   "file_extension": ".py",
   "mimetype": "text/x-python",
   "name": "python",
   "nbconvert_exporter": "python",
   "pygments_lexer": "ipython3",
   "version": "3.6.7"
  }
 },
 "nbformat": 4,
 "nbformat_minor": 2
}
