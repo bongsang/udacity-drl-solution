{
 "cells": [
  {
   "cell_type": "markdown",
   "metadata": {},
   "source": [
    "# Collaboration and Competition\n",
    "\n",
    "---\n",
    "\n",
    "In this notebook, you will learn how to use the Unity ML-Agents environment for the third project of the [Deep Reinforcement Learning Nanodegree](https://www.udacity.com/course/deep-reinforcement-learning-nanodegree--nd893) program.\n",
    "\n",
    "### 1. Start the Environment\n",
    "\n",
    "We begin by importing the necessary packages.  If the code cell below returns an error, please revisit the project instructions to double-check that you have installed [Unity ML-Agents](https://github.com/Unity-Technologies/ml-agents/blob/master/docs/Installation.md) and [NumPy](http://www.numpy.org/)."
   ]
  },
  {
   "cell_type": "code",
   "execution_count": 1,
   "metadata": {},
   "outputs": [],
   "source": [
    "from unityagents import UnityEnvironment\n",
    "import numpy as np\n",
    "\n",
    "import copy\n",
    "from collections import namedtuple, deque\n",
    "import random\n",
    "\n",
    "import torch\n",
    "import torch.nn as nn\n",
    "import torch.nn.functional as F\n",
    "import torch.optim as optim\n",
    "import matplotlib.pyplot as plt\n",
    "%matplotlib inline"
   ]
  },
  {
   "cell_type": "markdown",
   "metadata": {},
   "source": [
    "Next, we will start the environment!  **_Before running the code cell below_**, change the `file_name` parameter to match the location of the Unity environment that you downloaded.\n",
    "\n",
    "- **Mac**: `\"path/to/Tennis.app\"`\n",
    "- **Windows** (x86): `\"path/to/Tennis_Windows_x86/Tennis.exe\"`\n",
    "- **Windows** (x86_64): `\"path/to/Tennis_Windows_x86_64/Tennis.exe\"`\n",
    "- **Linux** (x86): `\"path/to/Tennis_Linux/Tennis.x86\"`\n",
    "- **Linux** (x86_64): `\"path/to/Tennis_Linux/Tennis.x86_64\"`\n",
    "- **Linux** (x86, headless): `\"path/to/Tennis_Linux_NoVis/Tennis.x86\"`\n",
    "- **Linux** (x86_64, headless): `\"path/to/Tennis_Linux_NoVis/Tennis.x86_64\"`\n",
    "\n",
    "For instance, if you are using a Mac, then you downloaded `Tennis.app`.  If this file is in the same folder as the notebook, then the line below should appear as follows:\n",
    "```\n",
    "env = UnityEnvironment(file_name=\"Tennis.app\")\n",
    "```"
   ]
  },
  {
   "cell_type": "code",
   "execution_count": 2,
   "metadata": {},
   "outputs": [],
   "source": [
    "env = UnityEnvironment(file_name=\"Tennis_Linux_NoVis/Tennis.x86_64\")"
   ]
  },
  {
   "cell_type": "markdown",
   "metadata": {},
   "source": [
    "Environments contain **_brains_** which are responsible for deciding the actions of their associated agents. Here we check for the first brain available, and set it as the default brain we will be controlling from Python."
   ]
  },
  {
   "cell_type": "code",
   "execution_count": 3,
   "metadata": {},
   "outputs": [],
   "source": [
    "# get the default brain\n",
    "brain_name = env.brain_names[0]\n",
    "brain = env.brains[brain_name]"
   ]
  },
  {
   "cell_type": "markdown",
   "metadata": {},
   "source": [
    "### 2. Examine the State and Action Spaces\n",
    "\n",
    "In this environment, two agents control rackets to bounce a ball over a net. If an agent hits the ball over the net, it receives a reward of +0.1.  If an agent lets a ball hit the ground or hits the ball out of bounds, it receives a reward of -0.01.  Thus, the goal of each agent is to keep the ball in play.\n",
    "\n",
    "The observation space consists of 8 variables corresponding to the position and velocity of the ball and racket. Two continuous actions are available, corresponding to movement toward (or away from) the net, and jumping. \n",
    "\n",
    "Run the code cell below to print some information about the environment."
   ]
  },
  {
   "cell_type": "code",
   "execution_count": 4,
   "metadata": {},
   "outputs": [
    {
     "name": "stdout",
     "output_type": "stream",
     "text": [
      "Number of agents: 2\n",
      "Size of each action: 2\n",
      "There are 2 agents. Each observes a state with length: 24\n",
      "The state for the first agent looks like: [ 0.          0.          0.          0.          0.          0.\n",
      "  0.          0.          0.          0.          0.          0.\n",
      "  0.          0.          0.          0.         -6.65278625 -1.5\n",
      " -0.          0.          6.83172083  6.         -0.          0.        ]\n"
     ]
    }
   ],
   "source": [
    "# reset the environment\n",
    "env_info = env.reset(train_mode=True)[brain_name]\n",
    "\n",
    "# number of agents \n",
    "num_agents = len(env_info.agents)\n",
    "print('Number of agents:', num_agents)\n",
    "\n",
    "# size of each action\n",
    "action_size = brain.vector_action_space_size\n",
    "print('Size of each action:', action_size)\n",
    "\n",
    "# examine the state space \n",
    "states = env_info.vector_observations\n",
    "state_size = states.shape[1]\n",
    "print('There are {} agents. Each observes a state with length: {}'.format(states.shape[0], state_size))\n",
    "print('The state for the first agent looks like:', states[0])"
   ]
  },
  {
   "cell_type": "markdown",
   "metadata": {},
   "source": [
    "### 3. Take Random Actions in the Environment\n",
    "\n",
    "In the next code cell, you will learn how to use the Python API to control the agents and receive feedback from the environment.\n",
    "\n",
    "Once this cell is executed, you will watch the agents' performance, if they select actions at random with each time step.  A window should pop up that allows you to observe the agents.\n",
    "\n",
    "Of course, as part of the project, you'll have to change the code so that the agents are able to use their experiences to gradually choose better actions when interacting with the environment!"
   ]
  },
  {
   "cell_type": "code",
   "execution_count": null,
   "metadata": {},
   "outputs": [],
   "source": [
    "for i in range(1, 6):                                      # play game for 5 episodes\n",
    "    env_info = env.reset(train_mode=False)[brain_name]     # reset the environment    \n",
    "    states = env_info.vector_observations                  # get the current state (for each agent)\n",
    "    scores = np.zeros(num_agents)                          # initialize the score (for each agent)\n",
    "    while True:\n",
    "        actions = np.random.randn(num_agents, action_size) # select an action (for each agent)\n",
    "        actions = np.clip(actions, -1, 1)                  # all actions between -1 and 1\n",
    "        env_info = env.step(actions)[brain_name]           # send all actions to tne environment\n",
    "        next_states = env_info.vector_observations         # get next state (for each agent)\n",
    "        rewards = env_info.rewards                         # get reward (for each agent)\n",
    "        dones = env_info.local_done                        # see if episode finished\n",
    "        scores += env_info.rewards                         # update the score (for each agent)\n",
    "        states = next_states                               # roll over states to next time step\n",
    "        if np.any(dones):                                  # exit loop if episode finished\n",
    "            break\n",
    "    print('Score (max over agents) from episode {}: {}'.format(i, np.max(scores)))"
   ]
  },
  {
   "cell_type": "markdown",
   "metadata": {},
   "source": [
    "When finished, you can close the environment."
   ]
  },
  {
   "cell_type": "code",
   "execution_count": null,
   "metadata": {},
   "outputs": [],
   "source": [
    "# env.close()"
   ]
  },
  {
   "cell_type": "markdown",
   "metadata": {},
   "source": [
    "### 4. It's Your Turn!\n",
    "\n",
    "Now it's your turn to train your own agent to solve the environment!  When training the environment, set `train_mode=True`, so that the line for resetting the environment looks like the following:\n",
    "```python\n",
    "env_info = env.reset(train_mode=True)[brain_name]\n",
    "```"
   ]
  },
  {
   "cell_type": "markdown",
   "metadata": {},
   "source": [
    "### 5. My Multi DDPG"
   ]
  },
  {
   "cell_type": "code",
   "execution_count": 5,
   "metadata": {},
   "outputs": [],
   "source": [
    "from ddpg.multi_ddpg_agent import Agent"
   ]
  },
  {
   "cell_type": "code",
   "execution_count": 6,
   "metadata": {},
   "outputs": [],
   "source": [
    "agent_0 = Agent(state_size, action_size, num_agents=1, random_seed=0)\n",
    "agent_1 = Agent(state_size, action_size, num_agents=1, random_seed=0)"
   ]
  },
  {
   "cell_type": "code",
   "execution_count": 7,
   "metadata": {},
   "outputs": [],
   "source": [
    "def get_actions(states, add_noise):\n",
    "    '''gets actions for each agent and then combines them into one array'''\n",
    "    action_0 = agent_0.act(states, add_noise)    # agent 0 chooses an action\n",
    "    action_1 = agent_1.act(states, add_noise)    # agent 1 chooses an action\n",
    "    return np.concatenate((action_0, action_1), axis=0).flatten()"
   ]
  },
  {
   "cell_type": "code",
   "execution_count": 8,
   "metadata": {},
   "outputs": [],
   "source": [
    "SOLVED_SCORE = 0.5\n",
    "CONSEC_EPISODES = 100\n",
    "PRINT_EVERY = 10\n",
    "ADD_NOISE = True"
   ]
  },
  {
   "cell_type": "code",
   "execution_count": 9,
   "metadata": {},
   "outputs": [],
   "source": [
    "def run_multi_ddpg(n_episodes=2000, max_t=1000, train_mode=True):\n",
    "    \"\"\"Multi-Agent Deep Deterministic Policy Gradient (MADDPG)\n",
    "    \n",
    "    Params\n",
    "    ======\n",
    "        n_episodes (int)      : maximum number of training episodes\n",
    "        max_t (int)           : maximum number of timesteps per episode\n",
    "        train_mode (bool)     : if 'True' set environment to training mode\n",
    "\n",
    "    \"\"\"\n",
    "    scores_window = deque(maxlen=CONSEC_EPISODES)\n",
    "    scores_all = []\n",
    "    moving_average = []\n",
    "    best_score = -np.inf\n",
    "    best_episode = 0\n",
    "    already_solved = False    \n",
    "\n",
    "    for i_episode in range(1, n_episodes+1):\n",
    "        env_info = env.reset(train_mode=train_mode)[brain_name]         # reset the environment\n",
    "        states = np.reshape(env_info.vector_observations, (1,48)) # get states and combine them\n",
    "        agent_0.reset()\n",
    "        agent_1.reset()\n",
    "        scores = np.zeros(num_agents)\n",
    "        while True:\n",
    "            actions = get_actions(states, ADD_NOISE)           # choose agent actions and combine them\n",
    "            env_info = env.step(actions)[brain_name]           # send both agents' actions together to the environment\n",
    "            next_states = np.reshape(env_info.vector_observations, (1, 48)) # combine the agent next states\n",
    "            rewards = env_info.rewards                         # get reward\n",
    "            done = env_info.local_done                         # see if episode finished\n",
    "            agent_0.step(states, actions, rewards[0], next_states, done, 0) # agent 1 learns\n",
    "            agent_1.step(states, actions, rewards[1], next_states, done, 1) # agent 2 learns\n",
    "            scores += np.max(rewards)                          # update the score for each agent\n",
    "            states = next_states                               # roll over states to next time step\n",
    "            if np.any(done):                                   # exit loop if episode finished\n",
    "                break\n",
    "\n",
    "        ep_best_score = np.max(scores)\n",
    "        scores_window.append(ep_best_score)\n",
    "        scores_all.append(ep_best_score)\n",
    "        moving_average.append(np.mean(scores_window))\n",
    "\n",
    "        # save best score                        \n",
    "        if ep_best_score > best_score:\n",
    "            best_score = ep_best_score\n",
    "            best_episode = i_episode\n",
    "        \n",
    "        # print results\n",
    "        if i_episode % PRINT_EVERY == 0:\n",
    "            print(f'Episodes {i_episode}\\tMax Reward: {np.max(scores_all[-PRINT_EVERY:]):.3f}\\tMoving Average: {moving_average[-1]:.3f}')\n",
    "\n",
    "        # determine if environment is solved and keep best performing models\n",
    "        if moving_average[-1] >= SOLVED_SCORE:\n",
    "            if not already_solved:\n",
    "                print(f'Solved in {i_episode-CONSEC_EPISODES} episodes! \\\n",
    "                \\n<-- Moving Average: {moving_average[-1]:.3f} over past {CONSEC_EPISODES} episodes')\n",
    "                already_solved = True\n",
    "                torch.save(agent_0.actor_local.state_dict(), 'checkpoint_actor_0.pth')\n",
    "                torch.save(agent_0.critic_local.state_dict(), 'checkpoint_critic_0.pth')\n",
    "                torch.save(agent_1.actor_local.state_dict(), 'checkpoint_actor_1.pth')\n",
    "                torch.save(agent_1.critic_local.state_dict(), 'checkpoint_critic_1.pth')\n",
    "            elif ep_best_score >= best_score:\n",
    "                print(f'Best episode {i_episode}\\tMax Reward: {ep_best_score:.3f}\\tMoving Average: {moving_average[-1]:.3f}')\n",
    "                torch.save(agent_0.actor_local.state_dict(), 'checkpoint_actor_0.pth')\n",
    "                torch.save(agent_0.critic_local.state_dict(), 'checkpoint_critic_0.pth')\n",
    "                torch.save(agent_1.actor_local.state_dict(), 'checkpoint_actor_1.pth')\n",
    "                torch.save(agent_1.critic_local.state_dict(), 'checkpoint_critic_1.pth')\n",
    "            elif (i_episode-best_episode) >= 200:\n",
    "                # stop training if model stops converging\n",
    "                print('Done')\n",
    "                break\n",
    "            else:\n",
    "                continue\n",
    "        \n",
    "    return scores_all, moving_average"
   ]
  },
  {
   "cell_type": "code",
   "execution_count": 10,
   "metadata": {},
   "outputs": [
    {
     "name": "stdout",
     "output_type": "stream",
     "text": [
      "Episodes 10\tMax Reward: 0.100\tMoving Average: 0.010\n",
      "Episodes 20\tMax Reward: 0.000\tMoving Average: 0.005\n",
      "Episodes 30\tMax Reward: 0.000\tMoving Average: 0.003\n",
      "Episodes 40\tMax Reward: 0.000\tMoving Average: 0.003\n",
      "Episodes 50\tMax Reward: 0.000\tMoving Average: 0.002\n",
      "Episodes 60\tMax Reward: 0.000\tMoving Average: 0.002\n",
      "Episodes 70\tMax Reward: 0.100\tMoving Average: 0.004\n",
      "Episodes 80\tMax Reward: 0.100\tMoving Average: 0.005\n",
      "Episodes 90\tMax Reward: 0.100\tMoving Average: 0.009\n",
      "Episodes 100\tMax Reward: 0.100\tMoving Average: 0.012\n",
      "Episodes 110\tMax Reward: 0.100\tMoving Average: 0.013\n",
      "Episodes 120\tMax Reward: 0.100\tMoving Average: 0.015\n",
      "Episodes 130\tMax Reward: 0.100\tMoving Average: 0.017\n",
      "Episodes 140\tMax Reward: 0.200\tMoving Average: 0.022\n",
      "Episodes 150\tMax Reward: 0.000\tMoving Average: 0.022\n",
      "Episodes 160\tMax Reward: 0.100\tMoving Average: 0.023\n",
      "Episodes 170\tMax Reward: 0.100\tMoving Average: 0.026\n",
      "Episodes 180\tMax Reward: 0.100\tMoving Average: 0.027\n",
      "Episodes 190\tMax Reward: 0.200\tMoving Average: 0.030\n",
      "Episodes 200\tMax Reward: 0.100\tMoving Average: 0.029\n",
      "Episodes 210\tMax Reward: 0.200\tMoving Average: 0.034\n",
      "Episodes 220\tMax Reward: 0.100\tMoving Average: 0.039\n",
      "Episodes 230\tMax Reward: 0.100\tMoving Average: 0.042\n",
      "Episodes 240\tMax Reward: 0.100\tMoving Average: 0.040\n",
      "Episodes 250\tMax Reward: 0.100\tMoving Average: 0.044\n",
      "Episodes 260\tMax Reward: 0.100\tMoving Average: 0.048\n",
      "Episodes 270\tMax Reward: 0.100\tMoving Average: 0.047\n",
      "Episodes 280\tMax Reward: 0.100\tMoving Average: 0.051\n",
      "Episodes 290\tMax Reward: 0.200\tMoving Average: 0.052\n",
      "Episodes 300\tMax Reward: 0.200\tMoving Average: 0.058\n",
      "Episodes 310\tMax Reward: 0.200\tMoving Average: 0.057\n",
      "Episodes 320\tMax Reward: 0.200\tMoving Average: 0.054\n",
      "Episodes 330\tMax Reward: 0.100\tMoving Average: 0.051\n",
      "Episodes 340\tMax Reward: 0.200\tMoving Average: 0.053\n",
      "Episodes 350\tMax Reward: 0.100\tMoving Average: 0.055\n",
      "Episodes 360\tMax Reward: 0.200\tMoving Average: 0.055\n",
      "Episodes 370\tMax Reward: 0.200\tMoving Average: 0.055\n",
      "Episodes 380\tMax Reward: 0.200\tMoving Average: 0.057\n",
      "Episodes 390\tMax Reward: 0.300\tMoving Average: 0.063\n",
      "Episodes 400\tMax Reward: 0.100\tMoving Average: 0.058\n",
      "Episodes 410\tMax Reward: 0.200\tMoving Average: 0.062\n",
      "Episodes 420\tMax Reward: 0.300\tMoving Average: 0.072\n",
      "Episodes 430\tMax Reward: 0.300\tMoving Average: 0.078\n",
      "Episodes 440\tMax Reward: 0.200\tMoving Average: 0.079\n",
      "Episodes 450\tMax Reward: 0.200\tMoving Average: 0.087\n",
      "Episodes 460\tMax Reward: 0.300\tMoving Average: 0.095\n",
      "Episodes 470\tMax Reward: 0.300\tMoving Average: 0.100\n",
      "Episodes 480\tMax Reward: 0.200\tMoving Average: 0.103\n",
      "Episodes 490\tMax Reward: 0.300\tMoving Average: 0.099\n",
      "Episodes 500\tMax Reward: 0.300\tMoving Average: 0.107\n",
      "Episodes 510\tMax Reward: 0.300\tMoving Average: 0.109\n",
      "Episodes 520\tMax Reward: 0.200\tMoving Average: 0.103\n",
      "Episodes 530\tMax Reward: 0.200\tMoving Average: 0.104\n",
      "Episodes 540\tMax Reward: 0.200\tMoving Average: 0.112\n",
      "Episodes 550\tMax Reward: 0.400\tMoving Average: 0.111\n",
      "Episodes 560\tMax Reward: 0.900\tMoving Average: 0.132\n",
      "Episodes 570\tMax Reward: 0.100\tMoving Average: 0.130\n",
      "Episodes 580\tMax Reward: 0.200\tMoving Average: 0.125\n",
      "Episodes 590\tMax Reward: 0.300\tMoving Average: 0.126\n",
      "Episodes 600\tMax Reward: 0.600\tMoving Average: 0.133\n",
      "Episodes 610\tMax Reward: 0.100\tMoving Average: 0.126\n",
      "Episodes 620\tMax Reward: 0.500\tMoving Average: 0.128\n",
      "Episodes 630\tMax Reward: 0.300\tMoving Average: 0.129\n",
      "Episodes 640\tMax Reward: 0.400\tMoving Average: 0.125\n",
      "Episodes 650\tMax Reward: 0.500\tMoving Average: 0.128\n",
      "Episodes 660\tMax Reward: 0.600\tMoving Average: 0.114\n",
      "Episodes 670\tMax Reward: 0.800\tMoving Average: 0.125\n",
      "Episodes 680\tMax Reward: 0.700\tMoving Average: 0.158\n",
      "Episodes 690\tMax Reward: 2.300\tMoving Average: 0.205\n",
      "Episodes 700\tMax Reward: 1.900\tMoving Average: 0.214\n",
      "Episodes 710\tMax Reward: 2.600\tMoving Average: 0.258\n",
      "Episodes 720\tMax Reward: 3.100\tMoving Average: 0.305\n",
      "Episodes 730\tMax Reward: 1.800\tMoving Average: 0.376\n",
      "Episodes 740\tMax Reward: 2.800\tMoving Average: 0.417\n",
      "Episodes 750\tMax Reward: 2.200\tMoving Average: 0.438\n",
      "Episodes 760\tMax Reward: 4.500\tMoving Average: 0.468\n",
      "Solved in 668 episodes!                 \n",
      "<-- Moving Average: 0.501 over past 100 episodes\n",
      "Episodes 770\tMax Reward: 1.500\tMoving Average: 0.507\n",
      "Episodes 780\tMax Reward: 1.100\tMoving Average: 0.490\n",
      "Episodes 790\tMax Reward: 1.400\tMoving Average: 0.470\n",
      "Episodes 800\tMax Reward: 0.700\tMoving Average: 0.468\n",
      "Episodes 810\tMax Reward: 0.700\tMoving Average: 0.433\n",
      "Episodes 820\tMax Reward: 0.800\tMoving Average: 0.392\n",
      "Episodes 830\tMax Reward: 2.600\tMoving Average: 0.396\n",
      "Episodes 840\tMax Reward: 0.700\tMoving Average: 0.359\n",
      "Episodes 850\tMax Reward: 2.300\tMoving Average: 0.385\n",
      "Episodes 860\tMax Reward: 2.300\tMoving Average: 0.419\n",
      "Episodes 870\tMax Reward: 5.200\tMoving Average: 0.460\n",
      "Episodes 880\tMax Reward: 3.400\tMoving Average: 0.516\n",
      "Episodes 890\tMax Reward: 1.900\tMoving Average: 0.524\n",
      "Episodes 900\tMax Reward: 3.800\tMoving Average: 0.579\n",
      "Episodes 910\tMax Reward: 2.200\tMoving Average: 0.636\n",
      "Episodes 920\tMax Reward: 2.200\tMoving Average: 0.706\n",
      "Episodes 930\tMax Reward: 2.500\tMoving Average: 0.708\n",
      "Episodes 940\tMax Reward: 4.000\tMoving Average: 0.791\n",
      "Episodes 950\tMax Reward: 1.000\tMoving Average: 0.759\n",
      "Episodes 960\tMax Reward: 0.400\tMoving Average: 0.697\n",
      "Episodes 970\tMax Reward: 2.700\tMoving Average: 0.669\n",
      "Episodes 980\tMax Reward: 0.500\tMoving Average: 0.606\n",
      "Episodes 990\tMax Reward: 2.100\tMoving Average: 0.652\n",
      "Episodes 1000\tMax Reward: 1.200\tMoving Average: 0.616\n",
      "Episodes 1010\tMax Reward: 0.600\tMoving Average: 0.557\n",
      "Episodes 1020\tMax Reward: 0.600\tMoving Average: 0.485\n",
      "Best episode 1022\tMax Reward: 5.200\tMoving Average: 0.533\n",
      "Best episode 1023\tMax Reward: 5.300\tMoving Average: 0.586\n",
      "Episodes 1030\tMax Reward: 5.300\tMoving Average: 0.532\n",
      "Episodes 1040\tMax Reward: 0.800\tMoving Average: 0.450\n",
      "Episodes 1050\tMax Reward: 0.300\tMoving Average: 0.430\n",
      "Episodes 1060\tMax Reward: 1.100\tMoving Average: 0.434\n",
      "Episodes 1070\tMax Reward: 0.300\tMoving Average: 0.371\n",
      "Episodes 1080\tMax Reward: 2.100\tMoving Average: 0.403\n",
      "Episodes 1090\tMax Reward: 1.690\tMoving Average: 0.369\n",
      "Episodes 1100\tMax Reward: 0.300\tMoving Average: 0.344\n",
      "Episodes 1110\tMax Reward: 1.600\tMoving Average: 0.355\n",
      "Episodes 1120\tMax Reward: 0.400\tMoving Average: 0.356\n",
      "Episodes 1130\tMax Reward: 3.100\tMoving Average: 0.295\n",
      "Episodes 1140\tMax Reward: 2.800\tMoving Average: 0.358\n",
      "Episodes 1150\tMax Reward: 5.200\tMoving Average: 0.466\n",
      "Episodes 1160\tMax Reward: 2.200\tMoving Average: 0.473\n",
      "Episodes 1170\tMax Reward: 3.100\tMoving Average: 0.542\n",
      "Episodes 1180\tMax Reward: 3.200\tMoving Average: 0.581\n",
      "Episodes 1190\tMax Reward: 2.100\tMoving Average: 0.599\n",
      "Episodes 1200\tMax Reward: 5.200\tMoving Average: 0.678\n",
      "Best episode 1205\tMax Reward: 5.300\tMoving Average: 0.765\n",
      "Episodes 1210\tMax Reward: 5.300\tMoving Average: 0.805\n",
      "Episodes 1220\tMax Reward: 5.200\tMoving Average: 0.936\n",
      "Done\n"
     ]
    }
   ],
   "source": [
    "scores, avgs = run_multi_ddpg()"
   ]
  },
  {
   "cell_type": "code",
   "execution_count": 11,
   "metadata": {},
   "outputs": [
    {
     "data": {
      "image/png": "[encoded data removed]",
      "text/plain": [
       "<Figure size 432x288 with 1 Axes>"
      ]
     },
     "metadata": {
      "needs_background": "light"
     },
     "output_type": "display_data"
    }
   ],
   "source": [
    "plt.plot(np.arange(1, len(scores)+1), scores, label='Score')\n",
    "plt.plot(np.arange(len(scores)), avgs, c='r', label='100 Average')\n",
    "plt.legend(loc=0)\n",
    "plt.ylabel('Score')\n",
    "plt.xlabel('Episode #')\n",
    "plt.title('Udacity Project3 Solution by Bongsang')\n",
    "\n",
    "plt.savefig('result.png')\n",
    "plt.show()"
   ]
  },
  {
   "cell_type": "code",
   "execution_count": 12,
   "metadata": {},
   "outputs": [],
   "source": [
    "env.close()"
   ]
  },
  {
   "cell_type": "code",
   "execution_count": null,
   "metadata": {},
   "outputs": [],
   "source": []
  }
 ],
 "metadata": {
  "kernelspec": {
   "display_name": "Python 3",
   "language": "python",
   "name": "python3"
  },
  "language_info": {
   "codemirror_mode": {
    "name": "ipython",
    "version": 3
   },
   "file_extension": ".py",
   "mimetype": "text/x-python",
   "name": "python",
   "nbconvert_exporter": "python",
   "pygments_lexer": "ipython3",
   "version": "3.7.3"
  }
 },
 "nbformat": 4,
 "nbformat_minor": 2
}
